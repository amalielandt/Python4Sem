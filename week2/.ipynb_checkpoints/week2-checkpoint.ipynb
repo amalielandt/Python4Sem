{
 "cells": [
  {
   "cell_type": "markdown",
   "metadata": {},
   "source": [
    "## Exercise - week 2"
   ]
  },
  {
   "cell_type": "markdown",
   "metadata": {},
   "source": [
    "### Exercise 1"
   ]
  },
  {
   "cell_type": "markdown",
   "metadata": {},
   "source": [
    "#### 1. Create a python file with 3 functions:\n",
    " A. def print_file_content(file) that can print content of a csv file to the console"
   ]
  },
  {
   "cell_type": "code",
   "execution_count": 8,
   "metadata": {},
   "outputs": [
    {
     "name": "stdout",
     "output_type": "stream",
     "text": [
      "AAR,BYDEL,ALDER,STATKODE,PERSONER\n",
      "\n",
      "2015,1,0,5100,614\n",
      "\n",
      "2015,1,0,5104,2\n",
      "\n",
      "2015,1,0,5106,1\n",
      "\n",
      "2015,1,0,5110,1\n",
      "\n",
      "2015,1,0,5120,4\n",
      "\n",
      "2015,1,0,5126,1\n",
      "\n",
      "2015,1,0,5130,5\n",
      "\n",
      "2015,1,0,5140,3\n",
      "\n",
      "2015,1,0,5150,5\n",
      "\n",
      "2015,1,0,5154,1\n",
      "\n",
      "2015,1,0,5164,3\n",
      "\n",
      "2015,1,0,5170,3\n",
      "\n",
      "2015,1,0,5180,3\n",
      "\n",
      "2015,1,0,5228,1\n",
      "\n",
      "2015,1,0,5306,2\n",
      "\n",
      "2015,1,0,5390,1\n",
      "\n",
      "2015,1,0,5448,1\n",
      "\n",
      "2015,1,0,5464,1\n",
      "\n",
      "2015,1,0,5472,1\n",
      "\n",
      "2015,1,0,5502,1\n",
      "\n",
      "2015,1,0,5704,1\n",
      "\n",
      "2015,1,0,5752,1\n",
      "\n",
      "2015,1,1,5100,540\n",
      "\n",
      "2015,1,1,5104,3\n",
      "\n",
      "2015,1,1,5106,2\n",
      "\n",
      "2015,1,1,5110,3\n",
      "\n",
      "2015,1,1,5120,4\n",
      "\n",
      "2015,1,1,5130,3\n",
      "\n",
      "2015,1,1,5140,1\n",
      "\n",
      "2015,1,1,5142,1\n",
      "\n",
      "2015,1,1,5150,2\n",
      "\n",
      "2015,1,1,5154,1\n",
      "\n",
      "2015,1,1,5156,3\n",
      "\n",
      "2015,1,1,5164,2\n",
      "\n",
      "2015,1,1,5170,4\n",
      "\n",
      "2015,1,1,5180,3\n",
      "\n",
      "2015,1,1,5390,3\n",
      "\n",
      "2015,1,1,5432,1\n",
      "\n",
      "2015,1,1,5448,2\n",
      "\n",
      "2015,1,1,5462,1\n",
      "\n",
      "2015,1,1,5472,1\n",
      "\n",
      "2015,1,1,5502,3\n",
      "\n",
      "2015,1,1,5700,1\n",
      "\n",
      "2015,1,1,5704,1\n",
      "\n",
      "2015,1,1,5750,1\n",
      "\n",
      "2015,1,1,5756,1\n",
      "\n",
      "2015,1,2,5100,485\n"
     ]
    }
   ],
   "source": [
    "def print_file_content(file) :\n",
    "    with open(file) as file:\n",
    "        for line in file :\n",
    "            print(line)\n",
    "\n",
    "print_file_content('./befkbhalderstatkode.csv')"
   ]
  },
  {
   "cell_type": "markdown",
   "metadata": {},
   "source": [
    "B. def write_list_to_file(output_file, lst) that can take a list of tuple and write each element to a new line in file"
   ]
  },
  {
   "cell_type": "code",
   "execution_count": 10,
   "metadata": {},
   "outputs": [
    {
     "name": "stdout",
     "output_type": "stream",
     "text": [
      "[(1, 1, 1), (2, 4, 8), (3, 9, 27), (4, 16, 64), (5, 25, 125), (6, 36, 216), (7, 49, 343), (8, 64, 512), (9, 81, 729), (10, 100, 1000), (11, 121, 1331), (12, 144, 1728), (13, 169, 2197), (14, 196, 2744), (15, 225, 3375), (16, 256, 4096), (17, 289, 4913), (18, 324, 5832), (19, 361, 6859)]\n"
     ]
    }
   ],
   "source": [
    "def write_list_to_file(output_file, lst) :\n",
    "    with open(output_file, 'w') as file:\n",
    "        for tuble in lst:\n",
    "            temp = \"\"\n",
    "            for val in tuble:\n",
    "                temp += str(val)+ \",\"\n",
    "            temp = temp[:-1] + \"\\n\"\n",
    "            file.write(temp)\n",
    "       \n",
    "    \n",
    "        \n",
    "\n",
    "tuple_list = [(value, value**2,value**3) for value in range(1,20)]\n",
    "print(tuple_list)\n",
    "write_list_to_file(\"1B.txt\", tuple_list)"
   ]
  },
  {
   "cell_type": "markdown",
   "metadata": {},
   "source": [
    " a. rewrite the function so that it gets an arbitrary number of strings instead of a list"
   ]
  },
  {
   "cell_type": "code",
   "execution_count": 11,
   "metadata": {},
   "outputs": [],
   "source": [
    "def write_list_to_file(output_file, *strs):\n",
    "    with open(output_file, 'w') as file:\n",
    "        for s in strs:\n",
    "            file.write(s + '\\n')\n",
    "\n",
    "\n",
    "write_list_to_file(\"1B.txt\", \"Morgenfrue\",\"Solsikke\",\"Jasmin\",\"Maguerit\",\"Anemone\")"
   ]
  },
  {
   "cell_type": "markdown",
   "metadata": {},
   "source": [
    "C. def read_csv(input_file) that take a csv file and read each row into a list"
   ]
  },
  {
   "cell_type": "code",
   "execution_count": 13,
   "metadata": {},
   "outputs": [
    {
     "name": "stdout",
     "output_type": "stream",
     "text": [
      "[['Morgenfrue'], ['Solsikke'], ['Jasmin'], ['Maguerit'], ['Anemone']]\n"
     ]
    }
   ],
   "source": [
    "import csv\n",
    "\n",
    "def read_csv(input_file):\n",
    "    file_list = []\n",
    "    with open(input_file) as file:\n",
    "        reader = csv.reader(file)\n",
    "        for row in reader:\n",
    "            file_list.append(row)\n",
    "            \n",
    "        print(file_list)\n",
    "\n",
    "read_csv('./1B.txt')"
   ]
  },
  {
   "cell_type": "markdown",
   "metadata": {},
   "source": [
    "#### 2. Add a functionality so that the file can be called from cli with 2 arguments\n",
    "A. path to csv file\n",
    "\n",
    "B. an argument --file file_name that if given will write the content to file_name or otherwise will print it to the console."
   ]
  },
  {
   "cell_type": "code",
   "execution_count": 1,
   "metadata": {},
   "outputs": [
    {
     "name": "stdout",
     "output_type": "stream",
     "text": [
      "[['Morgenfrue'], ['Solsikke'], ['Jasmin'], ['Maguerit'], ['Anemone']]\n"
     ]
    },
    {
     "ename": "NameError",
     "evalue": "name 'newline' is not defined",
     "output_type": "error",
     "traceback": [
      "\u001b[0;31m---------------------------------------------------------------------------\u001b[0m",
      "\u001b[0;31mNameError\u001b[0m                                 Traceback (most recent call last)",
      "\u001b[0;32m<ipython-input-1-52396ce38d97>\u001b[0m in \u001b[0;36m<module>\u001b[0;34m\u001b[0m\n\u001b[1;32m     23\u001b[0m \u001b[0;34m\u001b[0m\u001b[0m\n\u001b[1;32m     24\u001b[0m \u001b[0mread_csv\u001b[0m\u001b[0;34m(\u001b[0m\u001b[0;34m'./1B.txt'\u001b[0m\u001b[0;34m)\u001b[0m\u001b[0;34m\u001b[0m\u001b[0;34m\u001b[0m\u001b[0m\n\u001b[0;32m---> 25\u001b[0;31m \u001b[0mread_csv\u001b[0m\u001b[0;34m(\u001b[0m\u001b[0;34m'./1B.txt'\u001b[0m\u001b[0;34m,\u001b[0m\u001b[0;34m'read_csv.txt'\u001b[0m\u001b[0;34m)\u001b[0m\u001b[0;34m\u001b[0m\u001b[0;34m\u001b[0m\u001b[0m\n\u001b[0m",
      "\u001b[0;32m<ipython-input-1-52396ce38d97>\u001b[0m in \u001b[0;36mread_csv\u001b[0;34m(input_file, file_name)\u001b[0m\n\u001b[1;32m     16\u001b[0m         \u001b[0mprint\u001b[0m\u001b[0;34m(\u001b[0m\u001b[0mfile_list\u001b[0m\u001b[0;34m)\u001b[0m\u001b[0;34m\u001b[0m\u001b[0;34m\u001b[0m\u001b[0m\n\u001b[1;32m     17\u001b[0m     \u001b[0;32melse\u001b[0m\u001b[0;34m:\u001b[0m\u001b[0;34m\u001b[0m\u001b[0;34m\u001b[0m\u001b[0m\n\u001b[0;32m---> 18\u001b[0;31m         \u001b[0;32mwith\u001b[0m \u001b[0mopen\u001b[0m\u001b[0;34m(\u001b[0m\u001b[0mfile_name\u001b[0m\u001b[0;34m,\u001b[0m \u001b[0;34m'w'\u001b[0m\u001b[0;34m,\u001b[0m \u001b[0mnewline\u001b[0m\u001b[0;34m=\u001b[0m\u001b[0mnewline\u001b[0m\u001b[0;34m)\u001b[0m \u001b[0;32mas\u001b[0m \u001b[0mfile\u001b[0m\u001b[0;34m:\u001b[0m\u001b[0;34m\u001b[0m\u001b[0;34m\u001b[0m\u001b[0m\n\u001b[0m\u001b[1;32m     19\u001b[0m                 \u001b[0mwriter\u001b[0m \u001b[0;34m=\u001b[0m \u001b[0mcsv\u001b[0m\u001b[0;34m.\u001b[0m\u001b[0mwriter\u001b[0m\u001b[0;34m(\u001b[0m\u001b[0mfile\u001b[0m\u001b[0;34m)\u001b[0m\u001b[0;34m\u001b[0m\u001b[0;34m\u001b[0m\u001b[0m\n\u001b[1;32m     20\u001b[0m                 \u001b[0;32mfor\u001b[0m \u001b[0mline\u001b[0m \u001b[0;32min\u001b[0m \u001b[0mfile_list\u001b[0m\u001b[0;34m:\u001b[0m\u001b[0;34m\u001b[0m\u001b[0;34m\u001b[0m\u001b[0m\n",
      "\u001b[0;31mNameError\u001b[0m: name 'newline' is not defined"
     ]
    }
   ],
   "source": [
    "import csv\n",
    "import platform\n",
    "\n",
    "\n",
    "if platform.system() == 'Windows':\n",
    "    newline='\\r\\n'\n",
    "\n",
    "\n",
    "def read_csv(input_file, file_name = None):\n",
    "    file_list = []\n",
    "    with open(input_file) as file:\n",
    "        reader = csv.reader(file)\n",
    "        for row in reader:\n",
    "            file_list.append(row)\n",
    "    if file_name == None:\n",
    "        print(file_list)\n",
    "    else:\n",
    "        with open(file_name, 'w', newline=newline) as file:\n",
    "                writer = csv.writer(file)\n",
    "                for line in file_list:\n",
    "                    writer.writerow(line)\n",
    "\n",
    "                    \n",
    "read_csv('./1B.txt')\n",
    "read_csv('./1B.txt','read_csv.txt')\n"
   ]
  },
  {
   "cell_type": "markdown",
   "metadata": {},
   "source": [
    "#### 3. Add a --help cli argument to describe how the module is used"
   ]
  },
  {
   "cell_type": "code",
   "execution_count": null,
   "metadata": {},
   "outputs": [],
   "source": []
  },
  {
   "cell_type": "markdown",
   "metadata": {},
   "source": [
    "### Exercise 2\n",
    "\n",
    "#### Create a module called utils.py and put the following functions inside\n"
   ]
  },
  {
   "cell_type": "code",
   "execution_count": null,
   "metadata": {},
   "outputs": [],
   "source": []
  }
 ],
 "metadata": {
  "kernelspec": {
   "display_name": "Python 3",
   "language": "python",
   "name": "python3"
  },
  "language_info": {
   "codemirror_mode": {
    "name": "ipython",
    "version": 3
   },
   "file_extension": ".py",
   "mimetype": "text/x-python",
   "name": "python",
   "nbconvert_exporter": "python",
   "pygments_lexer": "ipython3",
   "version": "3.7.4"
  }
 },
 "nbformat": 4,
 "nbformat_minor": 2
}
