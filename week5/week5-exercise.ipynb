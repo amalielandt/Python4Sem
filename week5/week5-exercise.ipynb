{
 "cells": [
  {
   "cell_type": "markdown",
   "metadata": {},
   "source": [
    "## Exercise - week 5\n",
    "\n",
    "### Exercise 1 - Databanken\n",
    "\n",
    "1. Go to https://www.dst.dk/da/Statistik/statistikbanken/api\n",
    "2. Open 'Konsol' and click 'Start Konsol'\n",
    "3. In the console at pt 1: choose 'Retrieve tables' pt 2: choose get request and json format and pt 3: execute:\n",
    "\n",
    "    A. check the result\n",
    "    \n",
    "    B. in the code below this same get request is used to get information about all available data tables in 'databanken'.\n",
    "    \n",
    "    \n",
    "4. Change pt. 1 in the console to 'Retrieve data' pt 2: get request and Table id: 'FOLK1A', format: csv, delimiter: semicolon and click: 'Variable and value codes' and choose some sub categories (Hint: hover over the codes to see their meaning). Finally execute and see what data you get.\n",
    "5. With data aggregation and data visualization answer the following questions:\n",
    "\n",
    "    A. What is the change in pct of divorced danes from 2008 to 2020?"
   ]
  },
  {
   "cell_type": "code",
   "execution_count": 12,
   "metadata": {},
   "outputs": [
    {
     "name": "stdout",
     "output_type": "stream",
     "text": [
      "0    432156\n",
      "1    544588\n",
      "Name: INDHOLD, dtype: int64\n",
      "0         NaN\n",
      "1    0.260165\n",
      "Name: INDHOLD, dtype: float64\n"
     ]
    }
   ],
   "source": [
    "import csv\n",
    "import pandas as pd\n",
    "\n",
    "dd = pd.read_csv(\"divorced-danes.csv\", delimiter=\";\")\n",
    "\n",
    "divorces = dd.INDHOLD\n",
    "\n",
    "print(divorces)\n",
    "print(divorces.pct_change())\n"
   ]
  },
  {
   "cell_type": "markdown",
   "metadata": {},
   "source": [
    "   B. Which of the 5 biggest cities has the highest percentage of 'Never Married'?"
   ]
  },
  {
   "cell_type": "code",
   "execution_count": null,
   "metadata": {},
   "outputs": [],
   "source": []
  },
  {
   "cell_type": "markdown",
   "metadata": {},
   "source": [
    "C. Show a bar chart of changes in marrital status in Copenhagen from 2008 till now"
   ]
  },
  {
   "cell_type": "code",
   "execution_count": null,
   "metadata": {},
   "outputs": [],
   "source": []
  },
  {
   "cell_type": "markdown",
   "metadata": {},
   "source": [
    "D. Show a bar chart of 'Married' and 'Never Married' for all ages in DK (Hint: 2 bars of different color)"
   ]
  },
  {
   "cell_type": "code",
   "execution_count": 61,
   "metadata": {},
   "outputs": [
    {
     "data": {
      "image/png": "[encoded data removed]",
      "text/plain": [
       "<Figure size 432x288 with 1 Axes>"
      ]
     },
     "metadata": {
      "needs_background": "light"
     },
     "output_type": "display_data"
    }
   ],
   "source": [
    "dd = pd.read_csv(\"married.csv\", delimiter=\";\")\n",
    "\n",
    "dd_gift = dd[dd.CIVILSTAND == \"Gift/separeret\"]\n",
    "dd_ugift = dd[dd.CIVILSTAND == \"Ugift\"]\n",
    "\n",
    "plt.bar(dd_ugift.ALDER, dd_ugift.INDHOLD, label=\"ugift\", width=0.5, linewidth=0, align='center',alpha=0.7)\n",
    "plt.bar(dd_gift.ALDER, dd_gift.INDHOLD,label=\"gift\", width=0.5, linewidth=0, align='center',alpha=0.7)\n",
    "\n",
    "plt.axis([0, 110, 0, 80000])\n",
    "plt.legend()\n",
    "plt.plot()\n",
    "\n",
    "plt.show()"
   ]
  },
  {
   "cell_type": "markdown",
   "metadata": {},
   "source": [
    "### Exercise 2 - Use another table\n",
    "\n",
    "Choose any of the other tables in 'databanken' to find interesting data.\n",
    "\n",
    "1. Collect the data\n",
    "2. Pose 5 or more interesing questions to the data\n",
    "3. Answer the questions by aggregating the data\n",
    "4. Illustrate the answers with visual plots"
   ]
  },
  {
   "cell_type": "code",
   "execution_count": null,
   "metadata": {},
   "outputs": [],
   "source": []
  },
  {
   "cell_type": "code",
   "execution_count": null,
   "metadata": {},
   "outputs": [],
   "source": []
  }
 ],
 "metadata": {
  "kernelspec": {
   "display_name": "Python 3",
   "language": "python",
   "name": "python3"
  },
  "language_info": {
   "codemirror_mode": {
    "name": "ipython",
    "version": 3
   },
   "file_extension": ".py",
   "mimetype": "text/x-python",
   "name": "python",
   "nbconvert_exporter": "python",
   "pygments_lexer": "ipython3",
   "version": "3.7.4"
  }
 },
 "nbformat": 4,
 "nbformat_minor": 2
}
