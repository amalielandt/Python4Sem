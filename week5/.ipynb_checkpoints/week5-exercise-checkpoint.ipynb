{
 "cells": [
  {
   "cell_type": "markdown",
   "metadata": {},
   "source": [
    "## Exercise - week 5\n",
    "\n",
    "### Exercise 1 - Databanken\n",
    "\n",
    "1. Go to https://www.dst.dk/da/Statistik/statistikbanken/api\n",
    "2. Open 'Konsol' and click 'Start Konsol'\n",
    "3. In the console at pt 1: choose 'Retrieve tables' pt 2: choose get request and json format and pt 3: execute:\n",
    "\n",
    "    A. check the result\n",
    "    \n",
    "    B. in the code below this same get request is used to get information about all available data tables in 'databanken'.\n",
    "    \n",
    "    \n",
    "4. Change pt. 1 in the console to 'Retrieve data' pt 2: get request and Table id: 'FOLK1A', format: csv, delimiter: semicolon and click: 'Variable and value codes' and choose some sub categories (Hint: hover over the codes to see their meaning). Finally execute and see what data you get.\n",
    "5. With data aggregation and data visualization answer the following questions:\n",
    "\n",
    "    A. What is the change in pct of divorced danes from 2008 to 2020?"
   ]
  },
  {
   "cell_type": "code",
   "execution_count": 12,
   "metadata": {},
   "outputs": [
    {
     "name": "stdout",
     "output_type": "stream",
     "text": [
      "0    432156\n",
      "1    544588\n",
      "Name: INDHOLD, dtype: int64\n",
      "0         NaN\n",
      "1    0.260165\n",
      "Name: INDHOLD, dtype: float64\n"
     ]
    }
   ],
   "source": [
    "import csv\n",
    "import pandas as pd\n",
    "\n",
    "dd = pd.read_csv(\"divorced-danes.csv\", delimiter=\";\")\n",
    "\n",
    "divorces = dd.INDHOLD\n",
    "\n",
    "print(divorces)\n",
    "print(divorces.pct_change())\n"
   ]
  },
  {
   "cell_type": "markdown",
   "metadata": {},
   "source": [
    "   B. Which of the 5 biggest cities has the highest percentage of 'Never Married'?"
   ]
  },
  {
   "cell_type": "code",
   "execution_count": null,
   "metadata": {},
   "outputs": [],
   "source": []
  },
  {
   "cell_type": "markdown",
   "metadata": {},
   "source": [
    "C. Show a bar chart of changes in marrital status in Copenhagen from 2008 till now"
   ]
  },
  {
   "cell_type": "code",
   "execution_count": null,
   "metadata": {},
   "outputs": [],
   "source": []
  },
  {
   "cell_type": "markdown",
   "metadata": {},
   "source": [
    "D. Show a bar chart of 'Married' and 'Never Married' for all ages in DK (Hint: 2 bars of different color)"
   ]
  },
  {
   "cell_type": "code",
   "execution_count": 21,
   "metadata": {},
   "outputs": [
    {
     "name": "stdout",
     "output_type": "stream",
     "text": [
      "         CIVILSTAND     TID   ALDER  INDHOLD\n",
      "127  Gift/separeret  2020K1   I alt  2146017\n",
      "128  Gift/separeret  2020K1    0 år        0\n",
      "129  Gift/separeret  2020K1    1 år        0\n",
      "130  Gift/separeret  2020K1    2 år        0\n",
      "131  Gift/separeret  2020K1    3 år        0\n",
      "..              ...     ...     ...      ...\n",
      "249  Gift/separeret  2020K1  121 år        0\n",
      "250  Gift/separeret  2020K1  122 år        0\n",
      "251  Gift/separeret  2020K1  123 år        0\n",
      "252  Gift/separeret  2020K1  124 år        0\n",
      "253  Gift/separeret  2020K1  125 år        0\n",
      "\n",
      "[127 rows x 4 columns]\n",
      "    CIVILSTAND     TID   ALDER  INDHOLD\n",
      "0        Ugift  2020K1   I alt  2844060\n",
      "1        Ugift  2020K1    0 år    61466\n",
      "2        Ugift  2020K1    1 år    61916\n",
      "3        Ugift  2020K1    2 år    62148\n",
      "4        Ugift  2020K1    3 år    62697\n",
      "..         ...     ...     ...      ...\n",
      "122      Ugift  2020K1  121 år        0\n",
      "123      Ugift  2020K1  122 år        0\n",
      "124      Ugift  2020K1  123 år        0\n",
      "125      Ugift  2020K1  124 år        0\n",
      "126      Ugift  2020K1  125 år        0\n",
      "\n",
      "[127 rows x 4 columns]\n"
     ]
    },
    {
     "data": {
      "image/png": "[encoded data removed]",
      "text/plain": [
       "<Figure size 432x288 with 1 Axes>"
      ]
     },
     "metadata": {
      "needs_background": "light"
     },
     "output_type": "display_data"
    }
   ],
   "source": [
    "df = pd.read_csv(\"married.csv\", delimiter=\";\")\n",
    "\n",
    "\n",
    "df_gift = df[df.CIVILSTAND == \"Gift/separeret\"]\n",
    "df_ugift = df[df.CIVILSTAND == \"Ugift\"]\n",
    "\n",
    "print(df_gift)\n",
    "\n",
    "print(df_ugift)\n",
    "\n",
    "plt.bar(df_ugift.ALDER, df_ugift.INDHOLD, label=\"ugift\",alpha=0.7)\n",
    "plt.bar(df_gift.ALDER, df_gift.INDHOLD,label=\"gift\", alpha=0.7)\n",
    "\n",
    "\n",
    "df.tail(20) \n",
    "plt.xticks(rotation=45)\n",
    "plt.legend()\n",
    "plt.plot()\n",
    "plt.show()"
   ]
  }
 ],
 "metadata": {
  "kernelspec": {
   "display_name": "Python 3",
   "language": "python",
   "name": "python3"
  },
  "language_info": {
   "codemirror_mode": {
    "name": "ipython",
    "version": 3
   },
   "file_extension": ".py",
   "mimetype": "text/x-python",
   "name": "python",
   "nbconvert_exporter": "python",
   "pygments_lexer": "ipython3",
   "version": "3.7.4"
  }
 },
 "nbformat": 4,
 "nbformat_minor": 2
}
