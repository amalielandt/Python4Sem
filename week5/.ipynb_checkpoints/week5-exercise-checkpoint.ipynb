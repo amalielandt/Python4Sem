{
 "cells": [
  {
   "cell_type": "markdown",
   "metadata": {},
   "source": [
    "## Exercise - week 5\n",
    "\n",
    "### Exercise 1 - Databanken\n",
    "\n",
    "1. Go to https://www.dst.dk/da/Statistik/statistikbanken/api\n",
    "2. Open 'Konsol' and click 'Start Konsol'\n",
    "3. In the console at pt 1: choose 'Retrieve tables' pt 2: choose get request and json format and pt 3: execute:\n",
    "\n",
    "    A. check the result\n",
    "    \n",
    "    B. in the code below this same get request is used to get information about all available data tables in 'databanken'.\n",
    "    \n",
    "    \n",
    "4. Change pt. 1 in the console to 'Retrieve data' pt 2: get request and Table id: 'FOLK1A', format: csv, delimiter: semicolon and click: 'Variable and value codes' and choose some sub categories (Hint: hover over the codes to see their meaning). Finally execute and see what data you get.\n",
    "5. With data aggregation and data visualization answer the following questions:\n",
    "\n",
    "    A. What is the change in pct of divorced danes from 2008 to 2020?"
   ]
  },
  {
   "cell_type": "code",
   "execution_count": 2,
   "metadata": {},
   "outputs": [
    {
     "name": "stdout",
     "output_type": "stream",
     "text": [
      "Year: 2008\n",
      "Divorced danes: 432156\n",
      "\n",
      "Year: 2020\n",
      "Divorced danes: 544588\n",
      "\n",
      "Divorced danes from 2008 to 2020 are: 26 %\n"
     ]
    }
   ],
   "source": [
    "import csv\n",
    "import pandas as pd\n",
    "\n",
    "dd = pd.read_csv(\"divorced-danes.csv\", delimiter=\";\")\n",
    "\n",
    "year = dd.TID\n",
    "divorces = dd.INDHOLD\n",
    "\n",
    "\n",
    "print(\"Year: \" + str(year[0][:4]) + \"\\nDivorced danes: \" + str(divorces[0]))\n",
    "print(\"\\nYear: \" + str(year[1][:4]) + \"\\nDivorced danes: \" + str(divorces[1]))\n",
    "\n",
    "pct = (divorces.pct_change() * 100)[1]\n",
    "print(\"\\nDivorced danes from \" + str(year[0][:4]) + \" to \" + str(year[1][:4]) + \" are: \" + str(int(pct)) + \" %\")\n"
   ]
  },
  {
   "cell_type": "markdown",
   "metadata": {},
   "source": [
    "   B. Which of the 5 biggest cities has the highest percentage of 'Never Married'?"
   ]
  },
  {
   "cell_type": "code",
   "execution_count": 3,
   "metadata": {},
   "outputs": [
    {
     "name": "stdout",
     "output_type": "stream",
     "text": [
      "In Copenhagen 65 % is not married\n",
      "In Aalborg 54 % is not married\n",
      "In Odense 54 % is not married\n",
      "In Vejle 47 % is not married\n",
      "In Aarhus 59 % is not married\n",
      "\n",
      "\n",
      "The city with most not married people is: København with 65 %\n"
     ]
    }
   ],
   "source": [
    "df = pd.read_csv('not_married.csv', delimiter=\";\")\n",
    "\n",
    "data = df.INDHOLD\n",
    "\n",
    "cph = int((data[1] / data[0]) * 100)\n",
    "print(\"In Copenhagen \" + str(cph) + \" % is not married\")\n",
    "\n",
    "aalborg = int((data[3] / data[2]) * 100)\n",
    "print(\"In Aalborg \" + str(aalborg) + \" % is not married\")\n",
    "\n",
    "odense = int((data[5] / data[4]) * 100)\n",
    "print(\"In Odense \" + str(odense) + \" % is not married\")\n",
    "\n",
    "vejle = int((data[7] / data[6]) * 100)\n",
    "print(\"In Vejle \" + str(vejle) + \" % is not married\")\n",
    "\n",
    "aarhus = int((data[9] / data[8]) * 100)\n",
    "print(\"In Aarhus \" + str(aarhus) + \" % is not married\")\n",
    "\n",
    "print(\"\\n\\nThe city with most not married people is: \" + str(df.OMRÅDE[0]) + \" with \" + str(cph) + \" %\")"
   ]
  },
  {
   "cell_type": "markdown",
   "metadata": {},
   "source": [
    "C. Show a bar chart of changes in marrital status in Copenhagen from 2008 till now"
   ]
  },
  {
   "cell_type": "code",
   "execution_count": 5,
   "metadata": {},
   "outputs": [
    {
     "data": {
      "image/png": "[encoded data removed]",
      "text/plain": [
       "<Figure size 432x288 with 1 Axes>"
      ]
     },
     "metadata": {
      "needs_background": "light"
     },
     "output_type": "display_data"
    }
   ],
   "source": [
    "import matplotlib.pyplot as plt\n",
    "\n",
    "df = pd.read_csv(\"marriage_change_cph.csv\", delimiter=\";\")\n",
    "\n",
    "df_married = df[df.CIVILSTAND == \"Gift/separeret\"]\n",
    "df_not_married = df[df.CIVILSTAND == \"Ugift\"]\n",
    "df_divorced = df[df.CIVILSTAND == \"Fraskilt\"]\n",
    "df_widow = df[df.CIVILSTAND == \"Enke/enkemand\"]\n",
    "\n",
    "def setup_plot():\n",
    "    plt.title(\"Marrital status in Copenhagen\\n\")\n",
    "    plt.xlabel(\"\\nyear\", fontsize=10)\n",
    "    plt.ylabel(\"Humans\\n\", fontsize=10)\n",
    "    \n",
    "def plot_histogram(xs, ys, label, color):\n",
    "    plt.bar(xs, ys, label=label, alpha=0.7, width=0.5, linewidth=0, align='center', color=color)\n",
    "\n",
    "\n",
    "setup_plot()\n",
    "plot_histogram(df_married.TID.str[:4], df_married.INDHOLD,\"married\", \"red\")\n",
    "plot_histogram(df_not_married.TID.str[:4], df_not_married.INDHOLD,\"never married\", \"yellow\")\n",
    "plot_histogram(df_divorced.TID.str[:4], df_divorced.INDHOLD,\"divorced\", \"green\")\n",
    "plot_histogram(df_widow.TID.str[:4], df_widow.INDHOLD, \"widow\", \"blue\")\n",
    "\n",
    "plt.ylim([0, 700000])\n",
    "plt.legend(loc=1)\n",
    "plt.plot()\n",
    "plt.show()"
   ]
  },
  {
   "cell_type": "markdown",
   "metadata": {},
   "source": [
    "D. Show a bar chart of 'Married' and 'Never Married' for all ages in DK (Hint: 2 bars of different color)"
   ]
  },
  {
   "cell_type": "code",
   "execution_count": 61,
   "metadata": {},
   "outputs": [
    {
     "data": {
      "image/png": "[encoded data removed]",
      "text/plain": [
       "<Figure size 432x288 with 1 Axes>"
      ]
     },
     "metadata": {
      "needs_background": "light"
     },
     "output_type": "display_data"
    }
   ],
   "source": [
    "dd = pd.read_csv(\"married.csv\", delimiter=\";\")\n",
    "\n",
    "dd_gift = dd[dd.CIVILSTAND == \"Gift/separeret\"]\n",
    "dd_ugift = dd[dd.CIVILSTAND == \"Ugift\"]\n",
    "\n",
    "plt.bar(dd_ugift.ALDER, dd_ugift.INDHOLD, label=\"ugift\", width=0.5, linewidth=0, align='center',alpha=0.7)\n",
    "plt.bar(dd_gift.ALDER, dd_gift.INDHOLD,label=\"gift\", width=0.5, linewidth=0, align='center',alpha=0.7)\n",
    "\n",
    "plt.axis([0, 110, 0, 80000])\n",
    "plt.legend()\n",
    "plt.plot()\n",
    "\n",
    "plt.show()"
   ]
  },
  {
   "cell_type": "markdown",
   "metadata": {},
   "source": [
    "### Exercise 2 - Use another table\n",
    "\n",
    "Choose any of the other tables in 'databanken' to find interesting data.\n",
    "\n",
    "1. Collect the data\n",
    "2. Pose 5 or more interesing questions to the data\n",
    "3. Answer the questions by aggregating the data\n",
    "4. Illustrate the answers with visual plots\n",
    "\n",
    "\n",
    "#### 1. How many people in percent were born the 8.april compared to 2008 and 2020"
   ]
  },
  {
   "cell_type": "code",
   "execution_count": 6,
   "metadata": {},
   "outputs": [
    {
     "name": "stdout",
     "output_type": "stream",
     "text": [
      "The total increment of people born the 8. april from 2008 to 2020 are: 4 %\n"
     ]
    }
   ],
   "source": [
    "df = pd.read_csv(\"8_april.csv\", delimiter=\";\")\n",
    "\n",
    "info = df.INDHOLD\n",
    "percent_change = info.pct_change() * 100\n",
    "\n",
    "print(\"The total increment of people born the 8. april from 2008 to 2020 are: \" + str(int(percent_change[1])) + \" %\")"
   ]
  },
  {
   "cell_type": "markdown",
   "metadata": {},
   "source": [
    "\n",
    "#### 2. Show a bar chart of people born in the different months in 1995, 2000, 2005 and 2010"
   ]
  },
  {
   "cell_type": "code",
   "execution_count": 7,
   "metadata": {},
   "outputs": [
    {
     "data": {
      "image/png": "[encoded data removed]",
      "text/plain": [
       "<Figure size 432x288 with 1 Axes>"
      ]
     },
     "metadata": {
      "needs_background": "light"
     },
     "output_type": "display_data"
    }
   ],
   "source": [
    "import matplotlib.pyplot as plt\n",
    "\n",
    "df = pd.read_csv(\"born_1995_2000_2005_2010.csv\", delimiter=\";\")\n",
    "\n",
    "df_1995 = df[df.FODAAR == 1995]\n",
    "df_2000 = df[df.FODAAR == 2000]\n",
    "df_2005 = df[df.FODAAR == 2005]\n",
    "df_2010 = df[df.FODAAR == 2010]\n",
    "\n",
    "def setup_plot():\n",
    "    plt.title(\"Born in 1995, 2000, 2005 and 2010\\n\")\n",
    "    plt.xlabel(\"\\nMonths\", fontsize=10)\n",
    "    plt.ylabel(\"Humans\\n\", fontsize=10)\n",
    "    \n",
    "def plot_histogram(xs, ys, label, color):\n",
    "    plt.bar(xs, ys, label=label, alpha=0.7, width=0.5, linewidth=0, align='center', color=color)\n",
    "\n",
    "\n",
    "setup_plot()\n",
    "plot_histogram(df_1995.FMAANED, df_1995.INDHOLD,\"1995\", \"red\")\n",
    "plot_histogram(df_2000.FMAANED, df_2000.INDHOLD,\"2000\", \"yellow\")\n",
    "plot_histogram(df_2005.FMAANED, df_2005.INDHOLD,\"2005\", \"green\")\n",
    "plot_histogram(df_2010.FMAANED, df_2010.INDHOLD, \"2010\", \"blue\")\n",
    "\n",
    "plt.ylim([0, 10000])\n",
    "plt.legend(loc=1)\n",
    "plt.plot()\n",
    "plt.show()"
   ]
  },
  {
   "cell_type": "markdown",
   "metadata": {},
   "source": [
    "#### 3. Plot a bar to show how many people who are born the 1st of january from 1900 - 2019"
   ]
  },
  {
   "cell_type": "code",
   "execution_count": 8,
   "metadata": {},
   "outputs": [
    {
     "data": {
      "image/png": "[encoded data removed]",
      "text/plain": [
       "<Figure size 432x288 with 1 Axes>"
      ]
     },
     "metadata": {
      "needs_background": "light"
     },
     "output_type": "display_data"
    }
   ],
   "source": [
    "df = pd.read_csv(\"born_1_januar.csv\", delimiter=\";\")\n",
    "\n",
    "def setup_plot():\n",
    "    plt.title(\"Born 1st of January\\n\")\n",
    "    plt.xlabel(\"\\nYears\", fontsize=10)\n",
    "    plt.ylabel(\"Humans\\n\", fontsize=10)\n",
    "    \n",
    "def plot_histogram(xs, ys):\n",
    "    plt.bar(xs, ys, alpha=0.7, width=0.5, linewidth=0, align='center')\n",
    "\n",
    "\n",
    "setup_plot()\n",
    "plot_histogram(df.FODAAR, df.INDHOLD)\n",
    "\n",
    "\n",
    "plt.ylim([0, 500])\n",
    "plt.plot()\n",
    "plt.show()"
   ]
  }
 ],
 "metadata": {
  "kernelspec": {
   "display_name": "Python 3",
   "language": "python",
   "name": "python3"
  },
  "language_info": {
   "codemirror_mode": {
    "name": "ipython",
    "version": 3
   },
   "file_extension": ".py",
   "mimetype": "text/x-python",
   "name": "python",
   "nbconvert_exporter": "python",
   "pygments_lexer": "ipython3",
   "version": "3.7.4"
  }
 },
 "nbformat": 4,
 "nbformat_minor": 2
}
