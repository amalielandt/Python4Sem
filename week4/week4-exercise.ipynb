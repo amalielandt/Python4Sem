{
 "cells": [
  {
   "cell_type": "markdown",
   "metadata": {},
   "source": [
    "## Exercise - week 4\n",
    "\n",
    "### Exercise 1 - numpy"
   ]
  },
  {
   "cell_type": "markdown",
   "metadata": {},
   "source": [
    "1. Open the file './befkbhalderstatkode.csv'\n",
    "2. Turn the csv file into a numpy ndarray with np.genfromtxt(filename, delimiter=',', dtype=np.uint, skip_header=1)"
   ]
  },
  {
   "cell_type": "code",
   "execution_count": 1,
   "metadata": {},
   "outputs": [
    {
     "name": "stdout",
     "output_type": "stream",
     "text": [
      "[[2015    1    0 5100  614]\n",
      " [2015    1    0 5104    2]\n",
      " [2015    1    0 5106    1]\n",
      " ...\n",
      " [1992   99   89 5100    1]\n",
      " [1992   99   90 5180    1]\n",
      " [1992   99   93 5100    1]]\n"
     ]
    }
   ],
   "source": [
    "import numpy as np\n",
    "\n",
    "filename = './befkbhalderstatkode.csv'\n",
    "bef_stats_df = np.genfromtxt(filename, delimiter=',', dtype=np.uint, skip_header=1)\n",
    "print(bef_stats_df)"
   ]
  },
  {
   "cell_type": "markdown",
   "metadata": {},
   "source": [
    "using this data:\n",
    "    \n",
    "neighb = {1: 'Indre By', 2: 'Østerbro', 3: 'Nørrebro', 4: 'Vesterbro/Kgs. Enghave', \n",
    "       5: 'Valby', 6: 'Vanløse', 7: 'Brønshøj-Husum', 8: 'Bispebjerg', 9: 'Amager Øst', \n",
    "       10: 'Amager Vest', 99: 'Udenfor'}\n",
    "\n",
    "3. Find out how many people lived in each of the 11 areas in 2015"
   ]
  },
  {
   "cell_type": "code",
   "execution_count": 7,
   "metadata": {},
   "outputs": [
    {
     "data": {
      "text/plain": [
       "[44744, 65846, 66715, 51898, 44868, 35666, 34300, 42662, 47873, 55452, 2590]"
      ]
     },
     "execution_count": 7,
     "metadata": {},
     "output_type": "execute_result"
    }
   ],
   "source": [
    "areas = {1: 'Indre By', 2: 'Østerbro', 3: 'Nørrebro', 4: 'Vesterbro/Kgs. Enghave', \n",
    "       5: 'Valby', 6: 'Vanløse', 7: 'Brønshøj-Husum', 8: 'Bispebjerg', 9: 'Amager Øst', \n",
    "       10: 'Amager Vest', 99: 'Udenfor'}\n",
    "    \n",
    "stats = bef_stats_df\n",
    "\n",
    "def number_of_people(area, mask):\n",
    "    all_people = stats[mask & (stats[:,1] == area)]\n",
    "    sum_of_people = all_people[:,4].sum()\n",
    "    return sum_of_people\n",
    "\n",
    "def get_people(): \n",
    "    mask = (stats[:,0] == 2015) & (stats[:,3] == 5100)\n",
    "\n",
    "    return np.array([number_of_people(area, mask) for area in areas.keys()])\n",
    "\n",
    "\n",
    "list(get_people())\n",
    "           "
   ]
  },
  {
   "cell_type": "markdown",
   "metadata": {},
   "source": [
    "4. Make a bar plot to show the size of each city area from the smallest to the largest"
   ]
  },
  {
   "cell_type": "code",
   "execution_count": 8,
   "metadata": {},
   "outputs": [
    {
     "data": {
      "image/png": "[encoded data removed]",
      "text/plain": [
       "<Figure size 432x288 with 1 Axes>"
      ]
     },
     "metadata": {
      "needs_background": "light"
     },
     "output_type": "display_data"
    }
   ],
   "source": [
    "import matplotlib.pyplot as plt\n",
    "\n",
    "set_of_areas = list(areas.keys())\n",
    "freq_people = get_people()\n",
    "\n",
    "plt.bar(set_of_areas, freq_people)\n",
    "plt.show()"
   ]
  },
  {
   "cell_type": "markdown",
   "metadata": {},
   "source": [
    "5. Create a boolean mask to find out how many people above 65 years lived in Copenhagen in 2015"
   ]
  },
  {
   "cell_type": "code",
   "execution_count": 20,
   "metadata": {},
   "outputs": [
    {
     "data": {
      "text/plain": [
       "52299"
      ]
     },
     "execution_count": 20,
     "metadata": {},
     "output_type": "execute_result"
    }
   ],
   "source": [
    "mask = (stats[:,0] == 2015) & (stats[:,2] > 65) & (stats[:,3] == 5100)\n",
    "np.sum(stats[mask][:,4])"
   ]
  },
  {
   "cell_type": "markdown",
   "metadata": {},
   "source": [
    "6. How many of those were from the other nordic countries (not dk)"
   ]
  },
  {
   "cell_type": "code",
   "execution_count": 56,
   "metadata": {},
   "outputs": [
    {
     "data": {
      "text/plain": [
       "575"
      ]
     },
     "execution_count": 56,
     "metadata": {},
     "output_type": "execute_result"
    }
   ],
   "source": [
    "mask = (stats[:,0] == 2015) & (stats[:,2] > 65)\n",
    "mask_sweden = (stats[:,3] == 5120)\n",
    "mask_norway = (stats[:,3] == 5110)\n",
    "mask_finland = (stats[:,3] == 5104)\n",
    "np.sum(stats[mask & (mask_sweden | mask_norway | mask_finland)][:,4])"
   ]
  },
  {
   "cell_type": "markdown",
   "metadata": {},
   "source": [
    "7. Make a line plot showing the changes of number of people in vesterbro and østerbro from 1992 to 2015"
   ]
  },
  {
   "cell_type": "code",
   "execution_count": 57,
   "metadata": {},
   "outputs": [
    {
     "data": {
      "image/png": "[encoded data removed]",
      "text/plain": [
       "<Figure size 432x288 with 1 Axes>"
      ]
     },
     "metadata": {},
     "output_type": "display_data"
    }
   ],
   "source": [
    "import matplotlib.pyplot as plt\n",
    "\n",
    "def people_in_area(year, area):\n",
    "    mask_denmark = (stats[:,3] == 5100)\n",
    "    mask_area = (stats[:,1] == area)\n",
    "    \n",
    "    all_people = stats[mask_denmark & mask_area & (stats[:,0] == year)]\n",
    "    sum_of_people = all_people[:,4].sum()\n",
    "    return sum_of_people\n",
    "\n",
    "\n",
    "\n",
    "years = np.unique(stats[:,0])\n",
    "mask_years = years >= 1992\n",
    "\n",
    "people_vesterbro = np.array([people_in_area(year,2) for year in years[mask_years]])\n",
    "people_østerbro = np.array([people_in_area(year,4) for year in years[mask_years]])\n",
    "\n",
    "plt.style.use('seaborn-white')\n",
    "plt.plot(years[mask_years], people_vesterbro, 'bx')\n",
    "plt.plot(years[mask_years], people_østerbro, 'go')\n",
    "plt.show()\n"
   ]
  }
 ],
 "metadata": {
  "kernelspec": {
   "display_name": "Python 3",
   "language": "python",
   "name": "python3"
  },
  "language_info": {
   "codemirror_mode": {
    "name": "ipython",
    "version": 3
   },
   "file_extension": ".py",
   "mimetype": "text/x-python",
   "name": "python",
   "nbconvert_exporter": "python",
   "pygments_lexer": "ipython3",
   "version": "3.7.4"
  }
 },
 "nbformat": 4,
 "nbformat_minor": 2
}
