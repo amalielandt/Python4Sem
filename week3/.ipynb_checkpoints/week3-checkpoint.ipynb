{
 "cells": [
  {
   "cell_type": "markdown",
   "metadata": {},
   "source": [
    "## Exercise - week 3\n",
    "\n",
    "### Exercise 1 - classes\n",
    "\n",
    "1. Create 3 classes: Student, DataSheet and Course\n",
    "2. A student has a data_sheet and a data_sheet has multiple courses in particular order\n",
    "3. Each course has name, classroom, teacher, ETCS and optional grade if course is taken.\n",
    "4. In Student create init() so that a Student can be initiated with name, gender, data_sheet and image_url\n",
    "5. In DataSheet create a method to get_grades_as_list()\n",
    "6. In student create a method: get_avg_grade()\n"
   ]
  },
  {
   "cell_type": "code",
   "execution_count": 21,
   "metadata": {},
   "outputs": [],
   "source": [
    "class Course():\n",
    "    def __init__(self, name, classroom, teacher, ETCS, grade = None):\n",
    "        self.name = name\n",
    "        self.classroom = classroom\n",
    "        self.teacher = teacher\n",
    "        self.ETCS = ETCS\n",
    "        self.grade = grade\n",
    "        \n",
    "    def __repr__(self):\n",
    "        return 'course(%r, %r)' % (self.name, self.classroom)\n",
    "    \n",
    "class Data_sheed():\n",
    "    def __init__(self, courses = []):\n",
    "        self.courses = courses\n",
    "        \n",
    "    def add_course(self, course):\n",
    "        self.courses.append(course)\n",
    "        \n",
    "    def get_grades_as_list(self):\n",
    "        grades = []\n",
    "        for course in self.courses:\n",
    "            grades.append(course.grade)\n",
    "        return grades\n",
    "    \n",
    "class Student():\n",
    "    def __init__(self, name, gender, data_sheed, image_url):\n",
    "        self.data_sheed = data_sheed\n",
    "        self.name = name\n",
    "        self.gender = gender\n",
    "        self.image_url = image_url\n",
    "    \n",
    "    def __repr__(self):\n",
    "        return 'Student(%r, %r, %r)' % (self.name, self.gender, self.image_url)\n",
    "    \n",
    "    def get_avg_grade(self):\n",
    "        grades = self.data_sheed.get_grades_as_list()\n",
    "        return sum(grades) / len(grades)\n",
    "    "
   ]
  },
  {
   "cell_type": "markdown",
   "metadata": {},
   "source": [
    "7. Create a function that can generate n number of students with random: name, gender, courses (from a fixed list of course names), grades, img_url\n",
    "\n",
    "    A. Let the function write the result to a csv file with format stud_name, course_name, teacher, ects, classroom, grade, img_url"
   ]
  },
  {
   "cell_type": "code",
   "execution_count": 16,
   "metadata": {},
   "outputs": [],
   "source": [
    "import random\n",
    "import csv\n",
    "\n",
    "course1 = Course(\"Programming\", \"1.03\", \"Tue\",30, 12)\n",
    "course2 = Course(\"System Development\", \"2.06\", \"Palle\",15,10)\n",
    "course3 = Course(\"Python\", \"1.03\", \"Thomas\",15,7)\n",
    "\n",
    "def generate_students(number_of_students):\n",
    "    course_names=['Programming','System Development','Python','Security','Fullstack Javascript']\n",
    "    classrooms=['1.03','2.05','2.64','3.01']\n",
    "    teachers=['Tue','Tobias','Jon','Thomas','Tine']\n",
    "    ETCS=[15,10,30,5]\n",
    "    grades=[0,2,4,7,10,12]\n",
    "    \n",
    "    names=['Amanda','Amalie','Benjamin','Laura','Dominik','Jonas','Dylan','Andrea','Harald','Hyben']\n",
    "    gender=['Female','Male','Transgender','Agender','Bigender','Polygender']\n",
    "    images=[\"http://lava360.com/wp-content/uploads/2016/04/Spot-on-funny-caricatures-from-photos1.0.jpg\", \"https://i.ytimg.com/vi/lBosbEgC_5o/hqdefault.jpg\", \"http://www.kgsartwear.com/wp-content/uploads/2013/07/upperlip.jpg\", \"https://www.askideas.com/media/14/Angry-Face-Funny-Woman-Image.jpg\", \"http://3.bp.blogspot.com/-uoHXkY0ttDU/T98R1DYew9I/AAAAAAAAG5E/15Qb-05Wh1I/s1600/funny+face+expressions+%2819%29.jpg\", \"https://www.askideas.com/media/50/Funny-Jim-Carrey-Smiling-Face-Picture.jpg\", \"http://4.bp.blogspot.com/-NciOIYoZS6I/T98R7LJymiI/AAAAAAAAG5U/ZVRFD25RxD8/s1600/funny+face+expressions+%2820%29.jpg\"]\n",
    "    \n",
    "    students = []\n",
    "    for x in range(number_of_students):\n",
    "        courses = []\n",
    "        for x in range(random.randint(2,4)):\n",
    "            course = Course(random.choice(course_names),random.choice(classrooms),random.choice(teachers),random.choice(ETCS),random.choice(grades))\n",
    "            courses.append(course)\n",
    "        \n",
    "        data_sheed = Data_sheed(courses)\n",
    "        student = Student(random.choice(names),random.choice(gender),data_sheed,random.choice(images))\n",
    "        students.append(student)\n",
    "    \n",
    "    with open('students.csv', 'w') as file:\n",
    "        writer = csv.writer(file)\n",
    "        writer.writerow([\"stud_name\", \"gender\", \"course_name\", \"teacher\", \"ects\", \"classroom\", \"grade\", \"img_url\"])\n",
    "        for student in students:\n",
    "            for course in student.data_sheed.courses:\n",
    "                writer.writerow([student.name, student.gender, course.name, course.teacher, course.ETCS, \n",
    "                                    course.classroom, course.grade, student.image_url])\n",
    "\n",
    "generate_students(3)"
   ]
  },
  {
   "cell_type": "markdown",
   "metadata": {},
   "source": [
    "8. Read student data into a list of Students from a csv file:\n",
    "\n",
    "    A. loop through the list and print each student with name, img_url and avg_grade.\n",
    "    \n",
    "    B. sort the list by avg_grade"
   ]
  },
  {
   "cell_type": "code",
   "execution_count": 37,
   "metadata": {},
   "outputs": [
    {
     "ename": "IndentationError",
     "evalue": "unindent does not match any outer indentation level (<tokenize>, line 17)",
     "output_type": "error",
     "traceback": [
      "\u001b[0;36m  File \u001b[0;32m\"<tokenize>\"\u001b[0;36m, line \u001b[0;32m17\u001b[0m\n\u001b[0;31m    else:\u001b[0m\n\u001b[0m    ^\u001b[0m\n\u001b[0;31mIndentationError\u001b[0m\u001b[0;31m:\u001b[0m unindent does not match any outer indentation level\n"
     ]
    }
   ],
   "source": [
    "import csv\n",
    "\n",
    "with open('students.csv') as file:\n",
    "    reader = csv.reader(file)\n",
    "    next(reader)\n",
    "    students = []\n",
    "    \n",
    "    for row in reader:\n",
    "        name, gender, course_name, teacher, ects, classroom, grade, url = row\n",
    "        course = Course( course_name, classroom, teacher, ects, int(grade))\n",
    "        data_sheed = Data_sheed([course])\n",
    "        student = Student(name, gender, data_sheed,  url)\n",
    "        \n",
    "        if(len(students) == 0):\n",
    "            students.append(student)\n",
    "            \n",
    "        elif(student.name == students[-1].name and student.gender == students[-1].gender):\n",
    "            students[-1].data_sheed.add_course(course)\n",
    "        else:\n",
    "            students.append(student)\n",
    "            \n",
    "    sort_stud = sorted(students, key=Student.get_avg_grade)\n",
    "    for student in sort_stud:\n",
    "        \n",
    "        print(student.name, student.image_url, student.get_avg_grade())"
   ]
  }
 ],
 "metadata": {
  "kernelspec": {
   "display_name": "Python 3",
   "language": "python",
   "name": "python3"
  },
  "language_info": {
   "codemirror_mode": {
    "name": "ipython",
    "version": 3
   },
   "file_extension": ".py",
   "mimetype": "text/x-python",
   "name": "python",
   "nbconvert_exporter": "python",
   "pygments_lexer": "ipython3",
   "version": "3.7.4"
  }
 },
 "nbformat": 4,
 "nbformat_minor": 2
}
