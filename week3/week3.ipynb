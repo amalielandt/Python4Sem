{
 "cells": [
  {
   "cell_type": "markdown",
   "metadata": {},
   "source": [
    "## Exercise - week 3\n",
    "\n",
    "### Exercise 1 - classes\n",
    "\n",
    "1. Create 3 classes: Student, DataSheet and Course\n",
    "2. A student has a data_sheet and a data_sheet has multiple courses in particular order\n",
    "3. Each course has name, classroom, teacher, ETCS and optional grade if course is taken.\n",
    "4. In Student create init() so that a Student can be initiated with name, gender, data_sheet and image_url\n",
    "5. In DataSheet create a method to get_grades_as_list()\n",
    "6. In student create a method: get_avg_grade()\n"
   ]
  },
  {
   "cell_type": "code",
   "execution_count": 53,
   "metadata": {},
   "outputs": [],
   "source": [
    "class Course():\n",
    "    def __init__(self, name, classroom, teacher, ECTS, grade = None):\n",
    "        self.name = name\n",
    "        self.classroom = classroom\n",
    "        self.teacher = teacher\n",
    "        self.ECTS = ECTS\n",
    "        self.grade = grade\n",
    "    \n",
    "class Data_sheed():\n",
    "    def __init__(self, courses = []):\n",
    "        self.courses = courses\n",
    "        \n",
    "    def add_course(self, course):\n",
    "        self.courses.append(course)\n",
    "        \n",
    "    def get_grades_as_list(self):\n",
    "        grades = []\n",
    "        for course in self.courses:\n",
    "            grades.append(course.grade)\n",
    "        return grades\n",
    "    \n",
    "class Student():\n",
    "    def __init__(self, name, gender, data_sheed, image_url):\n",
    "        self.data_sheed = data_sheed\n",
    "        self.name = name\n",
    "        self.gender = gender\n",
    "        self.image_url = image_url\n",
    "    \n",
    "    def get_avg_grade(self):\n",
    "        grades = self.data_sheed.get_grades_as_list()\n",
    "        return sum(grades) / len(grades)\n",
    "    \n",
    "    \"\"\"9. Make a method on Student class that can show progression of \n",
    "    the study in % (add up ECTS from all passed courses divided by total\n",
    "    of 150 total points (equivalent to 5 semesters))\"\"\"\n",
    "    \n",
    "    def show_progress(self):\n",
    "        total_ects = 0\n",
    "        for course in self.data_sheed.courses:\n",
    "            if(course.grade != None):\n",
    "                total_ects += int(course.ECTS)\n",
    "        return (total_ects/150)*100\n",
    "    \n",
    "    \"\"\"2A. create a method on student that can return a list of courses\"\"\"\n",
    "    def get_all_courses(self):\n",
    "        return self.data_sheed.courses\n",
    "    "
   ]
  },
  {
   "cell_type": "markdown",
   "metadata": {},
   "source": [
    "7. Create a function that can generate n number of students with random: name, gender, courses (from a fixed list of course names), grades, img_url\n",
    "\n",
    "    A. Let the function write the result to a csv file with format stud_name, course_name, teacher, ects, classroom, grade, img_url"
   ]
  },
  {
   "cell_type": "code",
   "execution_count": 54,
   "metadata": {},
   "outputs": [],
   "source": [
    "import random\n",
    "import csv\n",
    "\n",
    "course1 = Course(\"Programming\", \"1.03\", \"Tue\",30, 12)\n",
    "course2 = Course(\"System Development\", \"2.06\", \"Palle\",15,10)\n",
    "course3 = Course(\"Python\", \"1.03\", \"Thomas\",15,7)\n",
    "\n",
    "def generate_students(number_of_students):\n",
    "    course_names=['Programming','System Development','Python','Security','Fullstack Javascript']\n",
    "    classrooms=['1.03','2.05','2.64','3.01']\n",
    "    teachers=['Tue','Tobias','Jon','Thomas','Tine']\n",
    "    ECTS=[15,10,30,5]\n",
    "    grades=[0,2,4,7,10,12]\n",
    "    \n",
    "    names=['Amanda','Amalie','Benjamin','Laura','Dominik','Jonas','Dylan','Andrea','Harald','Hyben']\n",
    "    gender=['Female','Male','Transgender','Agender','Bigender','Polygender']\n",
    "    images=[\"http://lava360.com/wp-content/uploads/2016/04/Spot-on-funny-caricatures-from-photos1.0.jpg\", \"https://i.ytimg.com/vi/lBosbEgC_5o/hqdefault.jpg\", \"http://www.kgsartwear.com/wp-content/uploads/2013/07/upperlip.jpg\", \"https://www.askideas.com/media/14/Angry-Face-Funny-Woman-Image.jpg\", \"http://3.bp.blogspot.com/-uoHXkY0ttDU/T98R1DYew9I/AAAAAAAAG5E/15Qb-05Wh1I/s1600/funny+face+expressions+%2819%29.jpg\", \"https://www.askideas.com/media/50/Funny-Jim-Carrey-Smiling-Face-Picture.jpg\", \"http://4.bp.blogspot.com/-NciOIYoZS6I/T98R7LJymiI/AAAAAAAAG5U/ZVRFD25RxD8/s1600/funny+face+expressions+%2820%29.jpg\"]\n",
    "    \n",
    "    students = []\n",
    "    for x in range(number_of_students):\n",
    "        courses = []\n",
    "        for x in range(random.randint(2,4)):\n",
    "            course = Course(random.choice(course_names),random.choice(classrooms),random.choice(teachers),random.choice(ECTS),random.choice(grades))\n",
    "            courses.append(course)\n",
    "        \n",
    "        data_sheed = Data_sheed(courses)\n",
    "        student = Student(random.choice(names),random.choice(gender),data_sheed,random.choice(images))\n",
    "        students.append(student)\n",
    "    \n",
    "    with open('students.csv', 'w') as file:\n",
    "        writer = csv.writer(file)\n",
    "        writer.writerow([\"stud_name\", \"gender\", \"course_name\", \"teacher\", \"ects\", \"classroom\", \"grade\", \"img_url\"])\n",
    "        for student in students:\n",
    "            for course in student.data_sheed.courses:\n",
    "                writer.writerow([student.name, student.gender, course.name, course.teacher, course.ECTS, \n",
    "                                    course.classroom, course.grade, student.image_url])\n",
    "\n",
    "generate_students(4)"
   ]
  },
  {
   "cell_type": "markdown",
   "metadata": {},
   "source": [
    "8. Read student data into a list of Students from a csv file:\n",
    "\n",
    "    A. loop through the list and print each student with name, img_url and avg_grade.\n",
    "    \n",
    "    B. sort the list by avg_grade"
   ]
  },
  {
   "cell_type": "code",
   "execution_count": 70,
   "metadata": {},
   "outputs": [
    {
     "name": "stdout",
     "output_type": "stream",
     "text": [
      "Harald http://3.bp.blogspot.com/-uoHXkY0ttDU/T98R1DYew9I/AAAAAAAAG5E/15Qb-05Wh1I/s1600/funny+face+expressions+%2819%29.jpg Bigender 4.666666666666667 33.33333333333333\n",
      "Hyben https://i.ytimg.com/vi/lBosbEgC_5o/hqdefault.jpg Female 4.666666666666667 36.666666666666664\n",
      "Benjamin http://4.bp.blogspot.com/-NciOIYoZS6I/T98R7LJymiI/AAAAAAAAG5U/ZVRFD25RxD8/s1600/funny+face+expressions+%2820%29.jpg Male 6.5 36.666666666666664\n",
      "Laura https://www.askideas.com/media/50/Funny-Jim-Carrey-Smiling-Face-Picture.jpg Agender 8.0 10.0\n"
     ]
    }
   ],
   "source": [
    "import csv\n",
    "\n",
    "with open('students.csv') as file:\n",
    "    reader = csv.reader(file)\n",
    "    next(reader)\n",
    "    students = []\n",
    "    \n",
    "    for row in reader:\n",
    "        name, gender, course_name, teacher, ects, classroom, grade, url = row\n",
    "        course = Course( course_name, classroom, teacher, ects, int(grade))\n",
    "        data_sheed = Data_sheed([course])\n",
    "        student = Student(name, gender, data_sheed, url)\n",
    "        \n",
    "        if(len(students) == 0):\n",
    "            students.append(student)\n",
    "            \n",
    "        elif(student.name == students[-1].name and student.gender == students[-1].gender):\n",
    "            students[-1].data_sheed.add_course(course)\n",
    "        else:\n",
    "            students.append(student)\n",
    "            \n",
    "    sort_students = sorted(students, key=Student.get_avg_grade)\n",
    "    for student in sort_students:\n",
    "        \n",
    "        print(student.name, student.image_url, student.gender, student.get_avg_grade(), student.show_progress())"
   ]
  },
  {
   "cell_type": "markdown",
   "metadata": {},
   "source": [
    "  C. create a bar chart with student_name on x and avg_grade on y-axis"
   ]
  },
  {
   "cell_type": "code",
   "execution_count": 56,
   "metadata": {},
   "outputs": [
    {
     "data": {
      "image/png": "[encoded data removed]",
      "text/plain": [
       "<Figure size 432x288 with 1 Axes>"
      ]
     },
     "metadata": {
      "needs_background": "light"
     },
     "output_type": "display_data"
    }
   ],
   "source": [
    "import matplotlib.pyplot as plt\n",
    "\n",
    "names = [student.name for student in sort_students]\n",
    "grades = [student.get_avg_grade() for student in sort_students]\n",
    "\n",
    "plt.bar(names,grades)\n",
    "plt.show()\n"
   ]
  },
  {
   "cell_type": "markdown",
   "metadata": {},
   "source": [
    "10. Show a bar chart of distribution of study progression on x-axis and number of students in each category on y-axis. (e.g. make 10 categories from 0-100%)\n",
    "\n",
    "I didn't understand this exercise\n",
    "\n",
    "\n",
    "### Exercise 2 - exceptions\n",
    "\n",
    "1. Create a function that can take a list of students and return the 3 students closest to completing their study.\n",
    "2. If list is shorter than 3 raise your own custom exception (NotEnoughStudentsException)"
   ]
  },
  {
   "cell_type": "code",
   "execution_count": 57,
   "metadata": {},
   "outputs": [
    {
     "name": "stdout",
     "output_type": "stream",
     "text": [
      "Harald 4.666666666666667 33.33333333333333\n",
      "Hyben 4.666666666666667 36.666666666666664\n",
      "Benjamin 6.5 36.666666666666664\n"
     ]
    },
    {
     "ename": "NotEnoughStudentsException",
     "evalue": "You only supplied 2 stundents, but 3 is needed",
     "output_type": "error",
     "traceback": [
      "\u001b[0;31m---------------------------------------------------------------------------\u001b[0m",
      "\u001b[0;31mNotEnoughStudentsException\u001b[0m                Traceback (most recent call last)",
      "\u001b[0;32m<ipython-input-57-4ef54318424d>\u001b[0m in \u001b[0;36m<module>\u001b[0;34m\u001b[0m\n\u001b[1;32m     16\u001b[0m \u001b[0;34m\u001b[0m\u001b[0m\n\u001b[1;32m     17\u001b[0m \u001b[0;34m\u001b[0m\u001b[0m\n\u001b[0;32m---> 18\u001b[0;31m \u001b[0mexeption_students\u001b[0m \u001b[0;34m=\u001b[0m \u001b[0mfurthest_students\u001b[0m\u001b[0;34m(\u001b[0m\u001b[0mstudents\u001b[0m\u001b[0;34m[\u001b[0m\u001b[0;36m0\u001b[0m\u001b[0;34m:\u001b[0m\u001b[0;36m2\u001b[0m\u001b[0;34m]\u001b[0m\u001b[0;34m)\u001b[0m\u001b[0;34m\u001b[0m\u001b[0;34m\u001b[0m\u001b[0m\n\u001b[0m",
      "\u001b[0;32m<ipython-input-57-4ef54318424d>\u001b[0m in \u001b[0;36mfurthest_students\u001b[0;34m(students)\u001b[0m\n\u001b[1;32m      8\u001b[0m     \u001b[0msort_stud\u001b[0m \u001b[0;34m=\u001b[0m \u001b[0msorted\u001b[0m\u001b[0;34m(\u001b[0m\u001b[0mstudents\u001b[0m\u001b[0;34m,\u001b[0m \u001b[0mkey\u001b[0m\u001b[0;34m=\u001b[0m\u001b[0mStudent\u001b[0m\u001b[0;34m.\u001b[0m\u001b[0mshow_progress\u001b[0m\u001b[0;34m)\u001b[0m\u001b[0;34m\u001b[0m\u001b[0;34m\u001b[0m\u001b[0m\n\u001b[1;32m      9\u001b[0m     \u001b[0;32mif\u001b[0m\u001b[0;34m(\u001b[0m\u001b[0mlen\u001b[0m\u001b[0;34m(\u001b[0m\u001b[0msort_stud\u001b[0m\u001b[0;34m)\u001b[0m\u001b[0;34m<\u001b[0m\u001b[0;36m3\u001b[0m\u001b[0;34m)\u001b[0m\u001b[0;34m:\u001b[0m\u001b[0;34m\u001b[0m\u001b[0;34m\u001b[0m\u001b[0m\n\u001b[0;32m---> 10\u001b[0;31m         \u001b[0;32mraise\u001b[0m \u001b[0mNotEnoughStudentsException\u001b[0m\u001b[0;34m(\u001b[0m\u001b[0;34m\"You only supplied {} stundents, but 3 is needed\"\u001b[0m\u001b[0;34m.\u001b[0m\u001b[0mformat\u001b[0m\u001b[0;34m(\u001b[0m\u001b[0mlen\u001b[0m\u001b[0;34m(\u001b[0m\u001b[0msort_stud\u001b[0m\u001b[0;34m)\u001b[0m\u001b[0;34m)\u001b[0m\u001b[0;34m)\u001b[0m\u001b[0;34m\u001b[0m\u001b[0;34m\u001b[0m\u001b[0m\n\u001b[0m\u001b[1;32m     11\u001b[0m     \u001b[0;32mreturn\u001b[0m \u001b[0msort_stud\u001b[0m\u001b[0;34m[\u001b[0m\u001b[0;34m-\u001b[0m\u001b[0;36m3\u001b[0m\u001b[0;34m:\u001b[0m\u001b[0;34m]\u001b[0m\u001b[0;34m\u001b[0m\u001b[0;34m\u001b[0m\u001b[0m\n\u001b[1;32m     12\u001b[0m \u001b[0;34m\u001b[0m\u001b[0m\n",
      "\u001b[0;31mNotEnoughStudentsException\u001b[0m: You only supplied 2 stundents, but 3 is needed"
     ]
    }
   ],
   "source": [
    "class NotEnoughStudentsException(IndexError):\n",
    "    def __init__(self, *args, **kwargs):\n",
    "        IndexError.__init__(self, *args, **kwargs)\n",
    "     \n",
    "\n",
    "def furthest_students(students):\n",
    "    \"\"\"findes the 3 students that are furthest with their studies. sorted on etcs points\"\"\"\n",
    "    sort_stud = sorted(students, key=Student.show_progress)\n",
    "    if(len(sort_stud)<3):\n",
    "        raise NotEnoughStudentsException(\"You only supplied {} stundents, but 3 is needed\".format(len(sort_stud)))\n",
    "    return sort_stud[-3:]\n",
    "\n",
    "best_students = furthest_students(students)\n",
    "for student in best_students:\n",
    "        print(student.name, student.get_avg_grade(), student.show_progress())\n",
    "        \n",
    "\n",
    "exeption_students = furthest_students(students[0:2])\n"
   ]
  },
  {
   "cell_type": "markdown",
   "metadata": {},
   "source": [
    "3. Create another function that can create a csv file with 3 students closest to completion\n",
    "\n",
    "    A. If an exception is raised write an appropriate message to the file"
   ]
  },
  {
   "cell_type": "code",
   "execution_count": 58,
   "metadata": {},
   "outputs": [],
   "source": [
    "def safe_best_students(students):\n",
    "    try:\n",
    "        best_students = furthest_students(students)\n",
    "    \n",
    "    except NotEnoughStudentsException as e:\n",
    "        with open('best_students.csv', 'w') as file:\n",
    "            writer = csv.writer(file)\n",
    "            writer.writerow([\"An error occured: {}\".format(e.args[0])])\n",
    "        \n",
    "    else:\n",
    "       \n",
    "        with open('best_students.csv', 'w') as file:\n",
    "            writer = csv.writer(file)\n",
    "            writer.writerow([\"stud_name\", \"gender\", \"course_name\", \"teacher\", \"ects\", \"classroom\", \"grade\", \"img_url\"])\n",
    "            for student in best_students:\n",
    "                for course in student.data_sheed.courses:\n",
    "                    writer.writerow([student.name, student.gender, course.name, course.teacher, course.ECTS, \n",
    "                                    course.classroom, course.grade, student.image_url])\n",
    "    \n",
    "safe_best_students(students[0:2])"
   ]
  },
  {
   "cell_type": "markdown",
   "metadata": {},
   "source": [
    "\n",
    "### Exercise 3 - plotting\n",
    "\n",
    "1. Create a function that can take a list of students and show a pie chart of how students are distributed in ECTS percentage categories (10%, 20%, ...)"
   ]
  },
  {
   "cell_type": "code",
   "execution_count": 59,
   "metadata": {},
   "outputs": [
    {
     "data": {
      "image/png": "[encoded data removed]",
      "text/plain": [
       "<Figure size 432x288 with 1 Axes>"
      ]
     },
     "metadata": {},
     "output_type": "display_data"
    }
   ],
   "source": [
    "import matplotlib.pyplot as plt\n",
    "\n",
    "def get_progress_piechart(students):\n",
    "    list_of_ects = {}\n",
    "    for student in students:\n",
    "        list_of_ects[student.name] = student.show_progress()\n",
    "    plt.pie(list_of_ects.values(), labels=list_of_ects.keys(), autopct='%1.0f%%')  \n",
    "    plt.show\n",
    "\n",
    "get_progress_piechart(students)"
   ]
  },
  {
   "cell_type": "markdown",
   "metadata": {},
   "source": [
    "2. create a function that can take a list of students and show how many students have taken each course (bar chart)\n",
    "    \n",
    "    A. create a method on student that can return a list of courses"
   ]
  },
  {
   "cell_type": "code",
   "execution_count": 71,
   "metadata": {},
   "outputs": [
    {
     "data": {
      "image/png": "[encoded data removed]",
      "text/plain": [
       "<Figure size 432x288 with 1 Axes>"
      ]
     },
     "metadata": {
      "needs_background": "light"
     },
     "output_type": "display_data"
    }
   ],
   "source": [
    "import matplotlib.pyplot as plt\n",
    "\n",
    "def get_students_by_course(students):\n",
    "    courses = []\n",
    "    course_names = []\n",
    "    student_pr_course = {}\n",
    "    all_courses=['Programming','System Development','Python','Security','Fullstack Javascript']\n",
    "    \n",
    "    for student in students:\n",
    "        courses.extend(student.get_all_courses())\n",
    "    \n",
    "    for course in courses:\n",
    "        course_names.append(course.name)\n",
    "        \n",
    "    for course in all_courses:\n",
    "        student_pr_course[course] = course_names.count(course)\n",
    "\n",
    "    plt.title(\"Students by courses\", fontsize=16)\n",
    "    plt.ylabel(\"Number of students\")\n",
    "    plt.xlabel(\"Courses\")\n",
    "    plt.bar(student_pr_course.keys(), student_pr_course.values())\n",
    "    plt.show\n",
    "\n",
    "get_students_by_course(students)"
   ]
  },
  {
   "cell_type": "markdown",
   "metadata": {},
   "source": [
    "3. Make the figure show males and females in different colors for each course (display 2 datasets in same figure)"
   ]
  },
  {
   "cell_type": "code",
   "execution_count": 89,
   "metadata": {},
   "outputs": [
    {
     "data": {
      "image/png": "[encoded data removed]",
      "text/plain": [
       "<Figure size 432x288 with 1 Axes>"
      ]
     },
     "metadata": {
      "needs_background": "light"
     },
     "output_type": "display_data"
    }
   ],
   "source": [
    "import matplotlib.pyplot as plt\n",
    "\n",
    "def get_students_by_course(students):   \n",
    "    females_pr_course = {'Programming':0,'System Development':0,'Python':0,'Security':0,'Fullstack Javascript':0}\n",
    "    males_pr_course = {'Programming':0,'System Development':0,'Python':0,'Security':0,'Fullstack Javascript':0}\n",
    "    gender_pr_course = {'Programming':0,'System Development':0,'Python':0,'Security':0,'Fullstack Javascript':0}\n",
    "    all_courses=['Programming','System Development','Python','Security','Fullstack Javascript']\n",
    "    \n",
    "    for coursename in all_courses:\n",
    "        for student in students:\n",
    "            for course in student.get_all_courses():\n",
    "                if course.name == coursename:\n",
    "                    if student.gender == 'Male':  \n",
    "                        males_pr_course[coursename] += 1 \n",
    "                        \n",
    "                    elif student.gender == 'Female':\n",
    "                        females_pr_course[coursename]+= 1 \n",
    "                        \n",
    "                    else:\n",
    "                        gender_pr_course[coursename] += 1 \n",
    "                        \n",
    "    \n",
    "    male_courses = list(males_pr_course.keys())\n",
    "    no_males = list(males_pr_course.values()) \n",
    "    \n",
    "    female_courses = list(females_pr_course.keys())\n",
    "    no_females = list(females_pr_course.values()) \n",
    "    \n",
    "    gender_courses = list(gender_pr_course.keys())\n",
    "    no_gender = list(gender_pr_course.values())\n",
    "\n",
    "    plt.ticklabel_format(useOffset=False)\n",
    "    plt.axis([0, len(all_courses), 0, 5])\n",
    "    plt.title(\"Students by courses\", fontsize=16)\n",
    "    plt.ylabel(\"Number of students\")\n",
    "    plt.xlabel(\"Courses\")\n",
    "    \n",
    "    \n",
    "    plt.tick_params(axis='both', which='major', labelsize=10)\n",
    "    p1 = plt.bar(male_courses, no_males, width=0.5, linewidth=0, align='center', color='blue')\n",
    "    p2 = plt.bar(female_courses, no_females, width=0.5, linewidth=0, align='center', color='red') \n",
    "    p3 = plt.bar(gender_courses, no_gender, width=0.5, linewidth=0, align='center', color='yellow') \n",
    "    plt.legend([p1,p2,p3],['males','females','others']) \n",
    "    plt.show\n",
    "    \n",
    "\n",
    "get_students_by_course(students)\n",
    "    "
   ]
  }
 ],
 "metadata": {
  "kernelspec": {
   "display_name": "Python 3",
   "language": "python",
   "name": "python3"
  },
  "language_info": {
   "codemirror_mode": {
    "name": "ipython",
    "version": 3
   },
   "file_extension": ".py",
   "mimetype": "text/x-python",
   "name": "python",
   "nbconvert_exporter": "python",
   "pygments_lexer": "ipython3",
   "version": "3.7.4"
  }
 },
 "nbformat": 4,
 "nbformat_minor": 2
}
